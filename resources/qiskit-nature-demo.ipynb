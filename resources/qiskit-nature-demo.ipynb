{
 "cells": [
  {
   "cell_type": "markdown",
   "id": "ff948ed9",
   "metadata": {
    "slideshow": {
     "slide_type": "slide"
    }
   },
   "source": [
    "# An Introduction to Qiskit Nature\n",
    "<br/>\n",
    "<br/>\n",
    "<br/>\n",
    "<br/>\n",
    "<br/>\n",
    "Max Rossmannek<br/>\n",
    "IBM Quantum, IBM Research Europe - Zürich"
   ]
  },
  {
   "cell_type": "markdown",
   "id": "d36c49b9",
   "metadata": {
    "slideshow": {
     "slide_type": "notes"
    }
   },
   "source": [
    "Qiskit Nature is the application module dealing with problems in **natural sciences**.\n",
    "Its goal is to provide end-user oriented modules which enable the fast solution of problems in _chemistry_, _physics_ and _biology_.\n",
    "\n",
    "Chemistry problems are of particular interest because they are a natural simulation target for quantum computing."
   ]
  },
  {
   "cell_type": "markdown",
   "id": "07385d81",
   "metadata": {
    "slideshow": {
     "slide_type": "slide"
    }
   },
   "source": [
    "<div style=\"float: left; width: 50%;\">\n",
    "    <br/>\n",
    "    <br/>\n",
    "    <i>\"If you have 125 orbitals and you want to store all possible configurations, then you need more memory in your classical computer than there are atoms in the universe.\"</i>\n",
    "    <br/>\n",
    "    <br/>\n",
    "    Matthias Troyer\n",
    "    \n",
    "</div>\n",
    "\n",
    "<div style=\"float: right; width: 50%; padding-right=20px;\">\n",
    "    <img src=\"images/intro.png\" width=\"600\"/>\n",
    "    <br>\n",
    "</div>"
   ]
  },
  {
   "cell_type": "markdown",
   "id": "aaf621a7",
   "metadata": {
    "slideshow": {
     "slide_type": "slide"
    }
   },
   "source": [
    "Nature currently provides the following modules:\n",
    "\n",
    "<img src=\"images/overview.png\" width=\"1400\"/>"
   ]
  },
  {
   "cell_type": "markdown",
   "id": "76adc49c",
   "metadata": {
    "slideshow": {
     "slide_type": "slide"
    }
   },
   "source": [
    "In general, any application is split into **Problems** and **Solvers** which are combined like so:\n",
    "<img src=\"images/Nature_YT_Workflow.svg\"/>\n",
    "> or in terms of code: `result = solver.solve(problem)`\n",
    "\n",
    "This modular approach permits the reusability of a solver for multiple problems."
   ]
  },
  {
   "cell_type": "markdown",
   "id": "374e4fc5",
   "metadata": {
    "slideshow": {
     "slide_type": "slide"
    }
   },
   "source": [
    "Depending on your actual application, the internals of your problem can take different forms.\n",
    "For example, the `ElectronicStructureProblem` (which we will be discussing today) looks like this:\n",
    "<img src=\"images/Nature_YT_ElectronicStructureProblem.svg\"/>"
   ]
  },
  {
   "cell_type": "markdown",
   "id": "2880ee4c",
   "metadata": {
    "slideshow": {
     "slide_type": "slide"
    }
   },
   "source": [
    "A similar modularity exists for the solvers. Generally these are provided by the `qiskit_nature.algorihtms` module which provide convenient wrappers of the actual algorithms implement in Qiskit Terra.\n",
    "Here is an example of the `GroundStateEigensolver` which we will be looking at today:\n",
    "<img src=\"images/Nature_YT_GroundStateEigensolver.svg\"/>"
   ]
  },
  {
   "cell_type": "markdown",
   "id": "968a3c81",
   "metadata": {
    "slideshow": {
     "slide_type": "slide"
    }
   },
   "source": [
    "## Electronic Structure"
   ]
  },
  {
   "cell_type": "markdown",
   "id": "dc5d79ed",
   "metadata": {
    "slideshow": {
     "slide_type": "fragment"
    }
   },
   "source": [
    "Let us now dive into the `ElectronicStructureProblem`. First, to cover some basics, let us talk about the general electronic Hamiltonian,\n",
    "\n",
    "<img src=\"images/hamiltonian.png\" width=\"1600\"/>"
   ]
  },
  {
   "cell_type": "markdown",
   "id": "955a241b",
   "metadata": {
    "slideshow": {
     "slide_type": "notes"
    }
   },
   "source": [
    "Here, we made use of the _Born-Oppenheimer approximation_, which allows us to separate the motion of the electrons from that of the much heavier nuclei."
   ]
  },
  {
   "cell_type": "markdown",
   "id": "4427023c",
   "metadata": {
    "slideshow": {
     "slide_type": "slide"
    }
   },
   "source": [
    "Finally, the format expression of our problem is given by the _non-relativistic time-independent Schrödinger equation_:\n",
    "\n",
    "$$\n",
    "\\hat{H} |\\Psi_{n}\\rangle = E_{n} |\\Psi_{n}\\rangle,\n",
    "$$\n",
    "\n",
    "whose ground state energy is given by:\n",
    "$$\n",
    "E_0 = \\frac{\\langle \\Psi_0 | \\hat{H} | \\Psi_0 \\rangle}{\\langle \\Psi_0 | \\Psi_0 \\rangle}\n",
    "$$\n",
    "where $\\Psi_0$ is the ground state of the system."
   ]
  },
  {
   "cell_type": "markdown",
   "id": "9c7691c1",
   "metadata": {
    "slideshow": {
     "slide_type": "slide"
    }
   },
   "source": [
    "### Second Quantization"
   ]
  },
  {
   "cell_type": "markdown",
   "id": "88616173",
   "metadata": {
    "slideshow": {
     "slide_type": "notes"
    }
   },
   "source": [
    "Up until now we have used the so-called _first quantization_ notation. However, in Qiskit we more commonly express our problems in the _second quantization_ form.\n",
    "This notation allows us to write our Hamiltonian as a weighted sum of **creation** and **annihilation** operator products."
   ]
  },
  {
   "cell_type": "markdown",
   "id": "5d515bc0",
   "metadata": {
    "slideshow": {
     "slide_type": "-"
    }
   },
   "source": [
    "Our Hamiltonian takes the form:\n",
    "\n",
    "$$\n",
    "\\hat{H}=\\sum_{pq} h_{pq} \\hat{a}^{\\dagger}_p \\hat{a}_q + \n",
    "\\frac{1}{2} \\sum_{pqrs} g_{pqrs}  \\hat{a}^{\\dagger}_p \\hat{a}^{\\dagger}_q \\hat{a}_r  \\hat{a}_s\n",
    "$$\n",
    "with the 1-body integrals\n",
    "$$\n",
    "h_{pq} = \\int \\phi^*_p(r) \\left( -\\frac{1}{2} \\nabla^2 - \\sum_{I} \\frac{Z_I}{R_I- r} \\right)   \\phi_q(r)dr\n",
    "$$\n",
    "and 2-body integrals\n",
    "$$\n",
    "g_{pqrs} = \\int \\frac{\\phi^*_p(r_1)  \\phi^*_q(r_2) \\phi_r(r_2)  \\phi_s(r_1)}{|r_1-r_2|}dr_1dr_2.\n",
    "$$"
   ]
  },
  {
   "cell_type": "markdown",
   "id": "d7a31ffc",
   "metadata": {
    "slideshow": {
     "slide_type": "notes"
    }
   },
   "source": [
    "The beauty of the second quantization formalism is that not only operators but also **states** are written using the _creation_ and _annihilation_ operators."
   ]
  },
  {
   "cell_type": "markdown",
   "id": "6ff40116",
   "metadata": {
    "slideshow": {
     "slide_type": "slide"
    }
   },
   "source": [
    "<div style=\"float: left; width: 50%;\">\n",
    "    Effectively, this means that our system's wave function can be represented as an <b>occupation number vector</b>.\n",
    "    This enables a very straight forward notation of <i>ground</i> and <i>excited states</i>:\n",
    "</div>\n",
    "\n",
    "<div style=\"float: right; width: 50%; padding-right=20px;\">\n",
    "    <img src=\"images/onv.png\" width=\"600\"/>\n",
    "    <br>\n",
    "</div>"
   ]
  },
  {
   "cell_type": "markdown",
   "id": "a02a579b",
   "metadata": {
    "slideshow": {
     "slide_type": "slide"
    }
   },
   "source": [
    "### The `ElectronicStructureProblem`"
   ]
  },
  {
   "cell_type": "code",
   "execution_count": 1,
   "id": "979ec946",
   "metadata": {
    "slideshow": {
     "slide_type": "notes"
    }
   },
   "outputs": [],
   "source": [
    "import warnings\n",
    "from h5py.h5py_warnings import H5pyDeprecationWarning\n",
    "warnings.filterwarnings(action=\"ignore\", category=H5pyDeprecationWarning)"
   ]
  },
  {
   "cell_type": "markdown",
   "id": "c8507a1c",
   "metadata": {
    "slideshow": {
     "slide_type": "notes"
    }
   },
   "source": [
    "The `ElectronicStructureProblem` makes it easy for us to represent a problem of the form which we just discussed.\n",
    "As an input, this kind of problem takes a so called `Driver` which is a concept in Qiskit Nature that allows us to couple to other (classical) computational chemistry codes which compute the 1- and 2-body integrals ($h_{pq}$ and $g_{pqrs}$) for us."
   ]
  },
  {
   "cell_type": "markdown",
   "id": "72bb03f6",
   "metadata": {
    "slideshow": {
     "slide_type": "fragment"
    }
   },
   "source": [
    "As a simple example, we will be using the generic `Molecule`-based interface and tell it to use `PySCF` as the classical computational backend."
   ]
  },
  {
   "cell_type": "code",
   "execution_count": 2,
   "id": "393fb9f5",
   "metadata": {
    "slideshow": {
     "slide_type": "-"
    }
   },
   "outputs": [],
   "source": [
    "from qiskit_nature.drivers import Molecule\n",
    "\n",
    "molecule = Molecule(\n",
    "    # coordinates are given in Angstrom\n",
    "    geometry=[\n",
    "        [\"O\", [0.0, 0.0, 0.115]],\n",
    "        [\"H\", [0.0, 0.754, -0.459]],\n",
    "        [\"H\", [0.0, -0.754, -0.459]],\n",
    "    ],\n",
    "    multiplicity=1,  # = 2*spin + 1\n",
    "    charge=0,\n",
    ")"
   ]
  },
  {
   "cell_type": "code",
   "execution_count": 3,
   "id": "e2e66153",
   "metadata": {
    "slideshow": {
     "slide_type": "slide"
    }
   },
   "outputs": [],
   "source": [
    "from qiskit_nature.drivers.second_quantization import ElectronicStructureMoleculeDriver, ElectronicStructureDriverType\n",
    "\n",
    "driver = ElectronicStructureMoleculeDriver(\n",
    "    molecule=molecule,\n",
    "    basis=\"sto3g\",\n",
    "    driver_type=ElectronicStructureDriverType.PYSCF,\n",
    ")"
   ]
  },
  {
   "cell_type": "markdown",
   "id": "c19eb5b0",
   "metadata": {
    "slideshow": {
     "slide_type": "fragment"
    }
   },
   "source": [
    "We could now run the driver manually by calling `driver.run()` but the preferred way is to wrap it into the previously mentioned `ElectronicStructureProblem` which we can solve later on."
   ]
  },
  {
   "cell_type": "code",
   "execution_count": 4,
   "id": "860f334e",
   "metadata": {
    "slideshow": {
     "slide_type": "-"
    }
   },
   "outputs": [],
   "source": [
    "from qiskit_nature.problems.second_quantization.electronic import ElectronicStructureProblem\n",
    "\n",
    "problem = ElectronicStructureProblem(driver)"
   ]
  },
  {
   "cell_type": "markdown",
   "id": "bc09297a",
   "metadata": {
    "slideshow": {
     "slide_type": "slide"
    }
   },
   "source": [
    "Out of curiosity let us inspect the Hamiltonian of our system in its second-quantized form:"
   ]
  },
  {
   "cell_type": "code",
   "execution_count": 5,
   "id": "c9a06b03",
   "metadata": {
    "slideshow": {
     "slide_type": "-"
    }
   },
   "outputs": [],
   "source": [
    "# this will call driver.run() internally\n",
    "second_q_ops = problem.second_q_ops()"
   ]
  },
  {
   "cell_type": "code",
   "execution_count": 6,
   "id": "dc037629",
   "metadata": {
    "slideshow": {
     "slide_type": "notes"
    }
   },
   "outputs": [],
   "source": [
    "from qiskit_nature.operators.second_quantization import FermionicOp\n",
    "\n",
    "# we increase the truncation value of the FermionicOp applied while printing\n",
    "FermionicOp.set_truncation(500)"
   ]
  },
  {
   "cell_type": "code",
   "execution_count": 7,
   "id": "3c57e710",
   "metadata": {
    "scrolled": true,
    "slideshow": {
     "slide_type": "-"
    }
   },
   "outputs": [
    {
     "name": "stdout",
     "output_type": "stream",
     "text": [
      "Fermionic Operator\n",
      "register length=14, number terms=1085\n",
      "  (0.009448189516231487+0j) * ( +_0 +_1 -_2 -_6 )\n",
      "+ (-0.0016037622713060834+0j) * ( +_0 +_1 -_3 -_5 )\n",
      "+ (-0.030824961500492448+0j) * ( +_0 -_1 +_2 -_6 )\n",
      "+ (0.021376771984260974+0j) * ( +_0 -_1 -_2 +_6 )\n",
      "+ (0.02231515563955718+0j) * ( +_0 -_1 +_3 -_5 )\n",
      "+ (-0.020711393368251115+0j) * ( +_0 -_1 -_3 +_5 )\n",
      "+ (0.05804237323821828+0j) * ( +_0 -_1 +_7 -_8 )\n",
      "+ (0.022361153748978534+0j) * ( +_0 -_1 +_7 -_10 )\n",
      "+ (0.03626704869816795+0j) * ( +_0 -_1 +_7 -_12 )\n",
      "+ (-0.05804237323821834+0j) * ( +_0 -_1 -_7 ...\n"
     ]
    }
   ],
   "source": [
    "hamiltonian = second_q_ops[0]\n",
    "print(hamiltonian)"
   ]
  },
  {
   "cell_type": "markdown",
   "id": "5a160f45",
   "metadata": {
    "slideshow": {
     "slide_type": "slide"
    }
   },
   "source": [
    "We can gain further insight by investigating the raw output of our driver:"
   ]
  },
  {
   "cell_type": "code",
   "execution_count": 8,
   "id": "ab724989",
   "metadata": {
    "scrolled": true,
    "slideshow": {
     "slide_type": "-"
    }
   },
   "outputs": [
    {
     "name": "stdout",
     "output_type": "stream",
     "text": [
      "ElectronicStructureDriverResult:\n",
      "\tDriverMetadata:\n",
      "\t\tProgram: PYSCF\n",
      "\t\tVersion: 2.0.1\n",
      "\t\tConfig:\n",
      "\t\t\tatom=O 0.0 0.0 0.115;H 0.0 0.754 -0.459;H 0.0 -0.754 -0.459\n",
      "\t\t\tunit=Angstrom\n",
      "\t\t\tcharge=0\n",
      "\t\t\tspin=0\n",
      "\t\t\tbasis=sto3g\n",
      "\t\t\tmethod=rhf\n",
      "\t\t\tconv_tol=1e-09\n",
      "\t\t\tmax_cycle=50\n",
      "\t\t\tinit_guess=minao\n",
      "\t\t\tmax_memory=4000\n",
      "\t\t\t\n",
      "\tElectronicBasisTransform:\n",
      "\t\tInitial basis: atomic\n",
      "\t\tFinal basis: molecular\n",
      "\t\tAlpha coefficients:\n",
      "\t\t[0, 0] = 0.9941038468519986\n",
      "\t\t[0, 1] = -0.23249684427278736\n",
      "\t\t[0, 2] = 2.167773289148554e-16\n",
      "\t\t[0, 3] = -0.10305188327114538\n",
      "\t\t[0, 4] = -1.1184279055969602e-16\n",
      "\t\t[0, 5] = -0.1341581577989696\n",
      "\t\t[0, 6] = -1.4618696113974377e-16\n",
      "\t\t[1, 0] = 0.026782078656149268\n",
      "\t\t[1, 1] = 0.8301922072362835\n",
      "\t\t[1, 2] = -1.0806837643609834e-15\n",
      "\t\t[1, 3] = 0.5369920122052786\n",
      "\t\t[1, 4] = 5.221554651560267e-16\n",
      "\t\t[1, 5] = 0.9038656248714154\n",
      "\t\t[1, 6] = 1.0711094741209037e-15\n",
      "\t\t[2, 0] = -1.327163444823544e-19\n",
      "\t\t[2, 1] = -1.0526439891670716e-18\n",
      "\t\t[2, 2] = -4.804794052085618e-16\n",
      "\t\t[2, 3] = -1.221566280389757e-15\n",
      "\t\t[2, 4] = 1.0\n",
      "\t\t[2, 5] = 1.1069397141233488e-16\n",
      "\t\t[2, 6] = 8.126103634879662e-17\n",
      "\t\t[3, 0] = -2.751513274019963e-18\n",
      "\t\t[3, 1] = 1.5402861216434229e-16\n",
      "\t\t[3, 2] = 0.6055832621220097\n",
      "\t\t[3, 3] = 1.1350885815254362e-15\n",
      "\t\t[3, 4] = 2.554326890658129e-16\n",
      "\t\t[3, 5] = -1.2861495836422129e-15\n",
      "\t\t[3, 6] = 0.9988904152353992\n",
      "\t\t[4, 0] = -0.00441051917008076\n",
      "\t\t[4, 1] = -0.13195105708967977\n",
      "\t\t[4, 2] = -1.3739009929736312e-15\n",
      "\t\t[4, 3] = 0.7817690957733664\n",
      "\t\t[4, 4] = 1.0619603116590766e-15\n",
      "\t\t[4, 5] = -0.7377686987676\n",
      "\t\t[4, 6] = -7.494005416219807e-16\n",
      "\t\t[5, 0] = -0.006087632858196101\n",
      "\t\t[5, 1] = 0.15951045942567613\n",
      "\t\t[5, 2] = 0.4437869667171715\n",
      "\t\t[5, 3] = -0.2729085888490121\n",
      "\t\t[5, 4] = 6.351082473822728e-17\n",
      "\t\t[5, 5] = -0.8052406318686671\n",
      "\t\t[5, 6] = -0.8470142665344281\n",
      "\t\t[6, 0] = -0.006087632858196121\n",
      "\t\t[6, 1] = 0.15951045942567602\n",
      "\t\t[6, 2] = -0.44378696671717066\n",
      "\t\t[6, 3] = -0.2729085888490138\n",
      "\t\t[6, 4] = -3.938422786639323e-16\n",
      "\t\t[6, 5] = -0.8052406318686692\n",
      "\t\t[6, 6] = 0.8470142665344261\n",
      "\t\tBeta coefficients:\n",
      "\t\t[0, 0] = 0.9941038468519986\n",
      "\t\t[0, 1] = -0.23249684427278736\n",
      "\t\t[0, 2] = 2.167773289148554e-16\n",
      "\t\t[0, 3] = -0.10305188327114538\n",
      "\t\t[0, 4] = -1.1184279055969602e-16\n",
      "\t\t[0, 5] = -0.1341581577989696\n",
      "\t\t[0, 6] = -1.4618696113974377e-16\n",
      "\t\t[1, 0] = 0.026782078656149268\n",
      "\t\t[1, 1] = 0.8301922072362835\n",
      "\t\t[1, 2] = -1.0806837643609834e-15\n",
      "\t\t[1, 3] = 0.5369920122052786\n",
      "\t\t[1, 4] = 5.221554651560267e-16\n",
      "\t\t[1, 5] = 0.9038656248714154\n",
      "\t\t[1, 6] = 1.0711094741209037e-15\n",
      "\t\t[2, 0] = -1.327163444823544e-19\n",
      "\t\t[2, 1] = -1.0526439891670716e-18\n",
      "\t\t[2, 2] = -4.804794052085618e-16\n",
      "\t\t[2, 3] = -1.221566280389757e-15\n",
      "\t\t[2, 4] = 1.0\n",
      "\t\t[2, 5] = 1.1069397141233488e-16\n",
      "\t\t[2, 6] = 8.126103634879662e-17\n",
      "\t\t[3, 0] = -2.751513274019963e-18\n",
      "\t\t[3, 1] = 1.5402861216434229e-16\n",
      "\t\t[3, 2] = 0.6055832621220097\n",
      "\t\t[3, 3] = 1.1350885815254362e-15\n",
      "\t\t[3, 4] = 2.554326890658129e-16\n",
      "\t\t[3, 5] = -1.2861495836422129e-15\n",
      "\t\t[3, 6] = 0.9988904152353992\n",
      "\t\t[4, 0] = -0.00441051917008076\n",
      "\t\t[4, 1] = -0.13195105708967977\n",
      "\t\t[4, 2] = -1.3739009929736312e-15\n",
      "\t\t[4, 3] = 0.7817690957733664\n",
      "\t\t[4, 4] = 1.0619603116590766e-15\n",
      "\t\t[4, 5] = -0.7377686987676\n",
      "\t\t[4, 6] = -7.494005416219807e-16\n",
      "\t\t[5, 0] = -0.006087632858196101\n",
      "\t\t[5, 1] = 0.15951045942567613\n",
      "\t\t[5, 2] = 0.4437869667171715\n",
      "\t\t[5, 3] = -0.2729085888490121\n",
      "\t\t[5, 4] = 6.351082473822728e-17\n",
      "\t\t[5, 5] = -0.8052406318686671\n",
      "\t\t[5, 6] = -0.8470142665344281\n",
      "\t\t[6, 0] = -0.006087632858196121\n",
      "\t\t[6, 1] = 0.15951045942567602\n",
      "\t\t[6, 2] = -0.44378696671717066\n",
      "\t\t[6, 3] = -0.2729085888490138\n",
      "\t\t[6, 4] = -3.938422786639323e-16\n",
      "\t\t[6, 5] = -0.8052406318686692\n",
      "\t\t[6, 6] = 0.8470142665344261\n",
      "\tParticleNumber:\n",
      "\t\t14 SOs\n",
      "\t\t5 alpha electrons\n",
      "\t\t\torbital occupation: [1. 1. 1. 1. 1. 0. 0.]\n",
      "\t\t5 beta electrons\n",
      "\t\t\torbital occupation: [1. 1. 1. 1. 1. 0. 0.]\n",
      "\tElectronicEnergy\n",
      "\t\t(AO) 1-Body Terms:\n",
      "\t\t\tAlpha\n",
      "\t\t\t<(7, 7) matrix with 31 non-zero entries>\n",
      "\t\t\t[0, 0] = -32.7321050788627\n",
      "\t\t\t[0, 1] = -7.615453203661357\n",
      "\t\t\t[0, 4] = 0.01918802008703639\n",
      "\t\t\t[0, 5] = -1.7902790229833074\n",
      "\t\t\t[0, 6] = -1.7902790229833074\n",
      "\t\t\t... skipping 26 entries\n",
      "\t\t\tBeta\n",
      "\t\t\t<(7, 7) matrix with 31 non-zero entries>\n",
      "\t\t\t[0, 0] = -32.7321050788627\n",
      "\t\t\t[0, 1] = -7.615453203661357\n",
      "\t\t\t[0, 4] = 0.01918802008703639\n",
      "\t\t\t[0, 5] = -1.7902790229833074\n",
      "\t\t\t[0, 6] = -1.7902790229833074\n",
      "\t\t\t... skipping 26 entries\n",
      "\t\t(AO) 2-Body Terms:\n",
      "\t\t\tAlpha-Alpha\n",
      "\t\t\t<(7, 7, 7, 7) matrix with 1245 non-zero entries>\n",
      "\t\t\t[0, 0, 0, 0] = 4.785065404705503\n",
      "\t\t\t[0, 0, 0, 1] = 0.7413803519734079\n",
      "\t\t\t[0, 0, 0, 5] = 0.17579330413348518\n",
      "\t\t\t[0, 0, 0, 6] = 0.17579330413348518\n",
      "\t\t\t[0, 0, 1, 0] = 0.741380351973408\n",
      "\t\t\t... skipping 1240 entries\n",
      "\t\t\tBeta-Alpha\n",
      "\t\t\t<(7, 7, 7, 7) matrix with 1245 non-zero entries>\n",
      "\t\t\t[0, 0, 0, 0] = 4.785065404705503\n",
      "\t\t\t[0, 0, 0, 1] = 0.7413803519734079\n",
      "\t\t\t[0, 0, 0, 5] = 0.17579330413348518\n",
      "\t\t\t[0, 0, 0, 6] = 0.17579330413348518\n",
      "\t\t\t[0, 0, 1, 0] = 0.741380351973408\n",
      "\t\t\t... skipping 1240 entries\n",
      "\t\t\tBeta-Beta\n",
      "\t\t\t<(7, 7, 7, 7) matrix with 1245 non-zero entries>\n",
      "\t\t\t[0, 0, 0, 0] = 4.785065404705503\n",
      "\t\t\t[0, 0, 0, 1] = 0.7413803519734079\n",
      "\t\t\t[0, 0, 0, 5] = 0.17579330413348518\n",
      "\t\t\t[0, 0, 0, 6] = 0.17579330413348518\n",
      "\t\t\t[0, 0, 1, 0] = 0.741380351973408\n",
      "\t\t\t... skipping 1240 entries\n",
      "\t\t\tAlpha-Beta\n",
      "\t\t\t<(7, 7, 7, 7) matrix with 1245 non-zero entries>\n",
      "\t\t\t[0, 0, 0, 0] = 4.785065404705503\n",
      "\t\t\t[0, 0, 0, 1] = 0.7413803519734079\n",
      "\t\t\t[0, 0, 0, 5] = 0.17579330413348518\n",
      "\t\t\t[0, 0, 0, 6] = 0.17579330413348518\n",
      "\t\t\t[0, 0, 1, 0] = 0.741380351973408\n",
      "\t\t\t... skipping 1240 entries\n",
      "\t\t(MO) 1-Body Terms:\n",
      "\t\t\tAlpha\n",
      "\t\t\t<(7, 7) matrix with 21 non-zero entries>\n",
      "\t\t\t[0, 0] = -32.714343842710356\n",
      "\t\t\t[0, 1] = 0.557899885017093\n",
      "\t\t\t[0, 3] = 0.23514619632372985\n",
      "\t\t\t[0, 5] = 0.30924009521248347\n",
      "\t\t\t[1, 0] = 0.5578998850170939\n",
      "\t\t\t... skipping 16 entries\n",
      "\t\t\tBeta\n",
      "\t\t\t<(7, 7) matrix with 21 non-zero entries>\n",
      "\t\t\t[0, 0] = -32.714343842710356\n",
      "\t\t\t[0, 1] = 0.557899885017093\n",
      "\t\t\t[0, 3] = 0.23514619632372985\n",
      "\t\t\t[0, 5] = 0.30924009521248347\n",
      "\t\t\t[1, 0] = 0.5578998850170939\n",
      "\t\t\t... skipping 16 entries\n",
      "\t\t(MO) 2-Body Terms:\n",
      "\t\t\tAlpha-Alpha\n",
      "\t\t\t<(7, 7, 7, 7) matrix with 777 non-zero entries>\n",
      "\t\t\t[0, 0, 0, 0] = 4.7443112186628165\n",
      "\t\t\t[0, 0, 0, 1] = -0.4160838131552578\n",
      "\t\t\t[0, 0, 0, 3] = -0.1834142677601158\n",
      "\t\t\t[0, 0, 0, 5] = -0.24145944466573138\n",
      "\t\t\t[0, 0, 1, 0] = -0.4160838131552578\n",
      "\t\t\t... skipping 772 entries\n",
      "\t\t\tBeta-Alpha\n",
      "\t\t\t<(7, 7, 7, 7) matrix with 777 non-zero entries>\n",
      "\t\t\t[0, 0, 0, 0] = 4.7443112186628165\n",
      "\t\t\t[0, 0, 0, 1] = -0.4160838131552578\n",
      "\t\t\t[0, 0, 0, 3] = -0.1834142677601158\n",
      "\t\t\t[0, 0, 0, 5] = -0.24145944466573138\n",
      "\t\t\t[0, 0, 1, 0] = -0.4160838131552578\n",
      "\t\t\t... skipping 772 entries\n",
      "\t\t\tBeta-Beta\n",
      "\t\t\t<(7, 7, 7, 7) matrix with 777 non-zero entries>\n",
      "\t\t\t[0, 0, 0, 0] = 4.7443112186628165\n",
      "\t\t\t[0, 0, 0, 1] = -0.4160838131552578\n",
      "\t\t\t[0, 0, 0, 3] = -0.1834142677601158\n",
      "\t\t\t[0, 0, 0, 5] = -0.24145944466573138\n",
      "\t\t\t[0, 0, 1, 0] = -0.4160838131552578\n",
      "\t\t\t... skipping 772 entries\n",
      "\t\t\tAlpha-Beta\n",
      "\t\t\t<(7, 7, 7, 7) matrix with 777 non-zero entries>\n",
      "\t\t\t[0, 0, 0, 0] = 4.7443112186628165\n",
      "\t\t\t[0, 0, 0, 1] = -0.4160838131552578\n",
      "\t\t\t[0, 0, 0, 3] = -0.1834142677601158\n",
      "\t\t\t[0, 0, 0, 5] = -0.24145944466573138\n",
      "\t\t\t[0, 0, 1, 0] = -0.4160838131552578\n",
      "\t\t\t... skipping 772 entries\n",
      "\tElectronicDipoleMoment:\n",
      "\t\tDipoleMomentX\n",
      "\t\t\t(AO) 1-Body Terms:\n",
      "\t\t\t\tAlpha\n",
      "\t\t\t\t<(7, 7) matrix with 8 non-zero entries>\n",
      "\t\t\t\t[0, 2] = 0.05079192958791236\n",
      "\t\t\t\t[1, 2] = 0.6411728443249252\n",
      "\t\t\t\t[2, 0] = 0.05079192958791236\n",
      "\t\t\t\t[2, 1] = 0.6411728443249252\n",
      "\t\t\t\t[2, 5] = 0.30915367280278916\n",
      "\t\t\t\t... skipping 3 entries\n",
      "\t\t\t\tBeta\n",
      "\t\t\t\t<(7, 7) matrix with 8 non-zero entries>\n",
      "\t\t\t\t[0, 2] = 0.05079192958791236\n",
      "\t\t\t\t[1, 2] = 0.6411728443249252\n",
      "\t\t\t\t[2, 0] = 0.05079192958791236\n",
      "\t\t\t\t[2, 1] = 0.6411728443249252\n",
      "\t\t\t\t[2, 5] = 0.30915367280278916\n",
      "\t\t\t\t... skipping 3 entries\n",
      "\t\t\t(MO) 1-Body Terms:\n",
      "\t\t\t\tAlpha\n",
      "\t\t\t\t<(7, 7) matrix with 8 non-zero entries>\n",
      "\t\t\t\t[0, 4] = 0.06390036602770408\n",
      "\t\t\t\t[1, 4] = 0.6191142242701765\n",
      "\t\t\t\t[3, 4] = 0.17032910668221632\n",
      "\t\t\t\t[4, 0] = 0.06390036602770408\n",
      "\t\t\t\t[4, 1] = 0.6191142242701765\n",
      "\t\t\t\t... skipping 3 entries\n",
      "\t\t\t\tBeta\n",
      "\t\t\t\t<(7, 7) matrix with 8 non-zero entries>\n",
      "\t\t\t\t[0, 4] = 0.06390036602770408\n",
      "\t\t\t\t[1, 4] = 0.6191142242701765\n",
      "\t\t\t\t[3, 4] = 0.17032910668221632\n",
      "\t\t\t\t[4, 0] = 0.06390036602770408\n",
      "\t\t\t\t[4, 1] = 0.6191142242701765\n",
      "\t\t\t\t... skipping 3 entries\n",
      "\t\tDipoleMomentY\n",
      "\t\t\t(AO) 1-Body Terms:\n",
      "\t\t\t\tAlpha\n",
      "\t\t\t\t<(7, 7) matrix with 22 non-zero entries>\n",
      "\t\t\t\t[0, 3] = 0.05079192958791236\n",
      "\t\t\t\t[0, 5] = 0.0032052941540769942\n",
      "\t\t\t\t[0, 6] = -0.0032052941540769942\n",
      "\t\t\t\t[1, 3] = 0.6411728443249252\n",
      "\t\t\t\t[1, 5] = 0.29292283410131914\n",
      "\t\t\t\t... skipping 17 entries\n",
      "\t\t\t\tBeta\n",
      "\t\t\t\t<(7, 7) matrix with 22 non-zero entries>\n",
      "\t\t\t\t[0, 3] = 0.05079192958791236\n",
      "\t\t\t\t[0, 5] = 0.0032052941540769942\n",
      "\t\t\t\t[0, 6] = -0.0032052941540769942\n",
      "\t\t\t\t[1, 3] = 0.6411728443249252\n",
      "\t\t\t\t[1, 5] = 0.29292283410131914\n",
      "\t\t\t\t... skipping 17 entries\n",
      "\t\t\t(MO) 1-Body Terms:\n",
      "\t\t\t\tAlpha\n",
      "\t\t\t\t<(7, 7) matrix with 16 non-zero entries>\n",
      "\t\t\t\t[0, 2] = 0.03992308852576591\n",
      "\t\t\t\t[0, 6] = 0.05631564616744292\n",
      "\t\t\t\t[1, 2] = 0.8475158979655154\n",
      "\t\t\t\t[1, 6] = -0.14799915306865558\n",
      "\t\t\t\t[2, 0] = 0.03992308852576591\n",
      "\t\t\t\t... skipping 11 entries\n",
      "\t\t\t\tBeta\n",
      "\t\t\t\t<(7, 7) matrix with 16 non-zero entries>\n",
      "\t\t\t\t[0, 2] = 0.03992308852576591\n",
      "\t\t\t\t[0, 6] = 0.05631564616744292\n",
      "\t\t\t\t[1, 2] = 0.8475158979655154\n",
      "\t\t\t\t[1, 6] = -0.14799915306865558\n",
      "\t\t\t\t[2, 0] = 0.03992308852576591\n",
      "\t\t\t\t... skipping 11 entries\n",
      "\t\tDipoleMomentZ\n",
      "\t\t\t(AO) 1-Body Terms:\n",
      "\t\t\t\tAlpha\n",
      "\t\t\t\t<(7, 7) matrix with 31 non-zero entries>\n",
      "\t\t\t\t[0, 0] = 0.2173185043249821\n",
      "\t\t\t\t[0, 1] = 0.05144014545037292\n",
      "\t\t\t\t[0, 4] = 0.05079192958791236\n",
      "\t\t\t\t[0, 5] = 0.009559648381014477\n",
      "\t\t\t\t[0, 6] = 0.009559648381014477\n",
      "\t\t\t\t... skipping 26 entries\n",
      "\t\t\t\tBeta\n",
      "\t\t\t\t<(7, 7) matrix with 31 non-zero entries>\n",
      "\t\t\t\t[0, 0] = 0.2173185043249821\n",
      "\t\t\t\t[0, 1] = 0.05144014545037292\n",
      "\t\t\t\t[0, 4] = 0.05079192958791236\n",
      "\t\t\t\t[0, 5] = 0.009559648381014477\n",
      "\t\t\t\t[0, 6] = 0.009559648381014477\n",
      "\t\t\t\t... skipping 26 entries\n",
      "\t\t\t(MO) 1-Body Terms:\n",
      "\t\t\t\tAlpha\n",
      "\t\t\t\t<(7, 7) matrix with 21 non-zero entries>\n",
      "\t\t\t\t[0, 0] = 0.21687080048082621\n",
      "\t\t\t\t[0, 1] = -0.008930229930278996\n",
      "\t\t\t\t[0, 3] = 0.049910878525104396\n",
      "\t\t\t\t[0, 5] = -0.04299460202344399\n",
      "\t\t\t\t[1, 0] = -0.00893022993027899\n",
      "\t\t\t\t... skipping 16 entries\n",
      "\t\t\t\tBeta\n",
      "\t\t\t\t<(7, 7) matrix with 21 non-zero entries>\n",
      "\t\t\t\t[0, 0] = 0.21687080048082621\n",
      "\t\t\t\t[0, 1] = -0.008930229930278996\n",
      "\t\t\t\t[0, 3] = 0.049910878525104396\n",
      "\t\t\t\t[0, 5] = -0.04299460202344399\n",
      "\t\t\t\t[1, 0] = -0.00893022993027899\n",
      "\t\t\t\t... skipping 16 entries\n",
      "\tAngularMomentum:\n",
      "\t\t14 SOs\n",
      "\tMagnetization:\n",
      "\t\t14 SOs\n",
      "Molecule:\n",
      "\tMultiplicity: 1\n",
      "\tCharge: 0\n",
      "\tGeometry:\n",
      "\t\tO\t[0.0, 0.0, 0.115]\n",
      "\t\tH\t[0.0, 0.754, -0.459]\n",
      "\t\tH\t[0.0, -0.754, -0.459]\n",
      "\tMasses:\n",
      "\t\tO\t16\n",
      "\t\tH\t1\n",
      "\t\tH\t1\n"
     ]
    }
   ],
   "source": [
    "print(problem.grouped_property)"
   ]
  },
  {
   "cell_type": "markdown",
   "id": "96673a36",
   "metadata": {
    "slideshow": {
     "slide_type": "slide"
    }
   },
   "source": [
    "<div style=\"float: left; width: 50%;\">\n",
    "    We can reduce the size of our problem by selected a subset of orbitals to be treated with the quantum algorithm. This concept is known as an <b>active space</b>.\n",
    "</div>\n",
    "<div style=\"float: right; width: 50%; padding-right=20px;\">\n",
    "    <img src=\"images/active_space.png\" width=\"600\"/>\n",
    "</div>"
   ]
  },
  {
   "cell_type": "markdown",
   "id": "c09d9f46",
   "metadata": {
    "slideshow": {
     "slide_type": "slide"
    }
   },
   "source": [
    "Qiskit Nature provides the generic `ActiveSpaceTransformer` to apply such a reduction:"
   ]
  },
  {
   "cell_type": "code",
   "execution_count": 9,
   "id": "0a9b1989",
   "metadata": {
    "slideshow": {
     "slide_type": "fragment"
    }
   },
   "outputs": [],
   "source": [
    "from qiskit_nature.transformers.second_quantization.electronic import ActiveSpaceTransformer\n",
    "\n",
    "transformer = ActiveSpaceTransformer(\n",
    "    num_electrons=2,\n",
    "    num_molecular_orbitals=3,\n",
    ")"
   ]
  },
  {
   "cell_type": "code",
   "execution_count": 10,
   "id": "56428273",
   "metadata": {
    "slideshow": {
     "slide_type": "fragment"
    }
   },
   "outputs": [],
   "source": [
    "problem_reduced = ElectronicStructureProblem(driver, [transformer])\n",
    "second_q_ops_reduced = problem_reduced.second_q_ops()\n",
    "hamiltonian_reduced = second_q_ops_reduced[0]"
   ]
  },
  {
   "cell_type": "code",
   "execution_count": 11,
   "id": "411905da",
   "metadata": {
    "slideshow": {
     "slide_type": "-"
    }
   },
   "outputs": [
    {
     "name": "stdout",
     "output_type": "stream",
     "text": [
      "Fermionic Operator\n",
      "register length=6, number terms=33\n",
      "  (0.03893103043276064+0j) * ( +_0 -_1 +_3 -_4 )\n",
      "+ (-0.038931030432760624+0j) * ( +_0 -_1 -_3 +_4 )\n",
      "+ (0.024354547060211944+0j) * ( +_0 -_2 +_3 -_5 )\n",
      "+ (-0.024354547060211937+0j) * ( +_0 -_2 -_3 +_5 )\n",
      "+ (-0.038931030432760624+0j) * ( -_0 +_1 +_3 -_4 )\n",
      "+ (0.038931030432760604+0j) * ( -_0 +_1 -_3 +_4 )\n",
      "+ (-0.024354547060211937+0j) * ( -_0 +_2 +_3 -_5 )\n",
      "+ (0.024354547060211923+0j) * ( -_0 +_2 -_3 +_5 )\n",
      "+ (0.11590317383979426+0j) * ( +_1 -_2 +_4 -_5 )\n",
      "+ (-0.11590317383979416+0j) * ( +_1 -_2 -_4  ...\n"
     ]
    }
   ],
   "source": [
    "print(hamiltonian_reduced)"
   ]
  },
  {
   "cell_type": "code",
   "execution_count": 12,
   "id": "261a9db6",
   "metadata": {
    "scrolled": true,
    "slideshow": {
     "slide_type": "slide"
    }
   },
   "outputs": [
    {
     "name": "stdout",
     "output_type": "stream",
     "text": [
      "ElectronicStructureDriverResult:\n",
      "\tDriverMetadata:\n",
      "\t\tProgram: PYSCF\n",
      "\t\tVersion: 2.0.1\n",
      "\t\tConfig:\n",
      "\t\t\tatom=O 0.0 0.0 0.115;H 0.0 0.754 -0.459;H 0.0 -0.754 -0.459\n",
      "\t\t\tunit=Angstrom\n",
      "\t\t\tcharge=0\n",
      "\t\t\tspin=0\n",
      "\t\t\tbasis=sto3g\n",
      "\t\t\tmethod=rhf\n",
      "\t\t\tconv_tol=1e-09\n",
      "\t\t\tmax_cycle=50\n",
      "\t\t\tinit_guess=minao\n",
      "\t\t\tmax_memory=4000\n",
      "\t\t\t\n",
      "\tElectronicBasisTransform:\n",
      "\t\tInitial basis: atomic\n",
      "\t\tFinal basis: molecular\n",
      "\t\tAlpha coefficients:\n",
      "\t\t[0, 0] = 0.9941038468519986\n",
      "\t\t[0, 1] = -0.23249684427278736\n",
      "\t\t[0, 2] = 2.167773289148554e-16\n",
      "\t\t[0, 3] = -0.10305188327114538\n",
      "\t\t[0, 4] = -1.1184279055969602e-16\n",
      "\t\t[0, 5] = -0.1341581577989696\n",
      "\t\t[0, 6] = -1.4618696113974377e-16\n",
      "\t\t[1, 0] = 0.026782078656149268\n",
      "\t\t[1, 1] = 0.8301922072362835\n",
      "\t\t[1, 2] = -1.0806837643609834e-15\n",
      "\t\t[1, 3] = 0.5369920122052786\n",
      "\t\t[1, 4] = 5.221554651560267e-16\n",
      "\t\t[1, 5] = 0.9038656248714154\n",
      "\t\t[1, 6] = 1.0711094741209037e-15\n",
      "\t\t[2, 0] = -1.327163444823544e-19\n",
      "\t\t[2, 1] = -1.0526439891670716e-18\n",
      "\t\t[2, 2] = -4.804794052085618e-16\n",
      "\t\t[2, 3] = -1.221566280389757e-15\n",
      "\t\t[2, 4] = 1.0\n",
      "\t\t[2, 5] = 1.1069397141233488e-16\n",
      "\t\t[2, 6] = 8.126103634879662e-17\n",
      "\t\t[3, 0] = -2.751513274019963e-18\n",
      "\t\t[3, 1] = 1.5402861216434229e-16\n",
      "\t\t[3, 2] = 0.6055832621220097\n",
      "\t\t[3, 3] = 1.1350885815254362e-15\n",
      "\t\t[3, 4] = 2.554326890658129e-16\n",
      "\t\t[3, 5] = -1.2861495836422129e-15\n",
      "\t\t[3, 6] = 0.9988904152353992\n",
      "\t\t[4, 0] = -0.00441051917008076\n",
      "\t\t[4, 1] = -0.13195105708967977\n",
      "\t\t[4, 2] = -1.3739009929736312e-15\n",
      "\t\t[4, 3] = 0.7817690957733664\n",
      "\t\t[4, 4] = 1.0619603116590766e-15\n",
      "\t\t[4, 5] = -0.7377686987676\n",
      "\t\t[4, 6] = -7.494005416219807e-16\n",
      "\t\t[5, 0] = -0.006087632858196101\n",
      "\t\t[5, 1] = 0.15951045942567613\n",
      "\t\t[5, 2] = 0.4437869667171715\n",
      "\t\t[5, 3] = -0.2729085888490121\n",
      "\t\t[5, 4] = 6.351082473822728e-17\n",
      "\t\t[5, 5] = -0.8052406318686671\n",
      "\t\t[5, 6] = -0.8470142665344281\n",
      "\t\t[6, 0] = -0.006087632858196121\n",
      "\t\t[6, 1] = 0.15951045942567602\n",
      "\t\t[6, 2] = -0.44378696671717066\n",
      "\t\t[6, 3] = -0.2729085888490138\n",
      "\t\t[6, 4] = -3.938422786639323e-16\n",
      "\t\t[6, 5] = -0.8052406318686692\n",
      "\t\t[6, 6] = 0.8470142665344261\n",
      "\t\tBeta coefficients:\n",
      "\t\t[0, 0] = 0.9941038468519986\n",
      "\t\t[0, 1] = -0.23249684427278736\n",
      "\t\t[0, 2] = 2.167773289148554e-16\n",
      "\t\t[0, 3] = -0.10305188327114538\n",
      "\t\t[0, 4] = -1.1184279055969602e-16\n",
      "\t\t[0, 5] = -0.1341581577989696\n",
      "\t\t[0, 6] = -1.4618696113974377e-16\n",
      "\t\t[1, 0] = 0.026782078656149268\n",
      "\t\t[1, 1] = 0.8301922072362835\n",
      "\t\t[1, 2] = -1.0806837643609834e-15\n",
      "\t\t[1, 3] = 0.5369920122052786\n",
      "\t\t[1, 4] = 5.221554651560267e-16\n",
      "\t\t[1, 5] = 0.9038656248714154\n",
      "\t\t[1, 6] = 1.0711094741209037e-15\n",
      "\t\t[2, 0] = -1.327163444823544e-19\n",
      "\t\t[2, 1] = -1.0526439891670716e-18\n",
      "\t\t[2, 2] = -4.804794052085618e-16\n",
      "\t\t[2, 3] = -1.221566280389757e-15\n",
      "\t\t[2, 4] = 1.0\n",
      "\t\t[2, 5] = 1.1069397141233488e-16\n",
      "\t\t[2, 6] = 8.126103634879662e-17\n",
      "\t\t[3, 0] = -2.751513274019963e-18\n",
      "\t\t[3, 1] = 1.5402861216434229e-16\n",
      "\t\t[3, 2] = 0.6055832621220097\n",
      "\t\t[3, 3] = 1.1350885815254362e-15\n",
      "\t\t[3, 4] = 2.554326890658129e-16\n",
      "\t\t[3, 5] = -1.2861495836422129e-15\n",
      "\t\t[3, 6] = 0.9988904152353992\n",
      "\t\t[4, 0] = -0.00441051917008076\n",
      "\t\t[4, 1] = -0.13195105708967977\n",
      "\t\t[4, 2] = -1.3739009929736312e-15\n",
      "\t\t[4, 3] = 0.7817690957733664\n",
      "\t\t[4, 4] = 1.0619603116590766e-15\n",
      "\t\t[4, 5] = -0.7377686987676\n",
      "\t\t[4, 6] = -7.494005416219807e-16\n",
      "\t\t[5, 0] = -0.006087632858196101\n",
      "\t\t[5, 1] = 0.15951045942567613\n",
      "\t\t[5, 2] = 0.4437869667171715\n",
      "\t\t[5, 3] = -0.2729085888490121\n",
      "\t\t[5, 4] = 6.351082473822728e-17\n",
      "\t\t[5, 5] = -0.8052406318686671\n",
      "\t\t[5, 6] = -0.8470142665344281\n",
      "\t\t[6, 0] = -0.006087632858196121\n",
      "\t\t[6, 1] = 0.15951045942567602\n",
      "\t\t[6, 2] = -0.44378696671717066\n",
      "\t\t[6, 3] = -0.2729085888490138\n",
      "\t\t[6, 4] = -3.938422786639323e-16\n",
      "\t\t[6, 5] = -0.8052406318686692\n",
      "\t\t[6, 6] = 0.8470142665344261\n",
      "\tParticleNumber:\n",
      "\t\t6 SOs\n",
      "\t\t1 alpha electrons\n",
      "\t\t\torbital occupation: [1. 0. 0.]\n",
      "\t\t1 beta electrons\n",
      "\t\t\torbital occupation: [1. 0. 0.]\n",
      "\tElectronicEnergy\n",
      "\t\t(AO) 1-Body Terms:\n",
      "\t\t\tAlpha\n",
      "\t\t\t<(7, 7) matrix with 31 non-zero entries>\n",
      "\t\t\t[0, 0] = -22.43761398834635\n",
      "\t\t\t[0, 1] = -5.638504821761304\n",
      "\t\t\t[0, 4] = 0.029637276085026403\n",
      "\t\t\t[0, 5] = -1.3318022005114347\n",
      "\t\t\t[0, 6] = -1.331802200511435\n",
      "\t\t\t... skipping 26 entries\n",
      "\t\t\tBeta\n",
      "\t\t\t<(7, 7) matrix with 31 non-zero entries>\n",
      "\t\t\t[0, 0] = -22.43761398834635\n",
      "\t\t\t[0, 1] = -5.638504821761304\n",
      "\t\t\t[0, 4] = 0.029637276085026403\n",
      "\t\t\t[0, 5] = -1.3318022005114347\n",
      "\t\t\t[0, 6] = -1.331802200511435\n",
      "\t\t\t... skipping 26 entries\n",
      "\t\t(AO) 2-Body Terms:\n",
      "\t\t\tAlpha-Alpha\n",
      "\t\t\t<(7, 7, 7, 7) matrix with 1245 non-zero entries>\n",
      "\t\t\t[0, 0, 0, 0] = 4.785065404705503\n",
      "\t\t\t[0, 0, 0, 1] = 0.7413803519734079\n",
      "\t\t\t[0, 0, 0, 5] = 0.17579330413348518\n",
      "\t\t\t[0, 0, 0, 6] = 0.17579330413348518\n",
      "\t\t\t[0, 0, 1, 0] = 0.741380351973408\n",
      "\t\t\t... skipping 1240 entries\n",
      "\t\t\tBeta-Alpha\n",
      "\t\t\t<(7, 7, 7, 7) matrix with 1245 non-zero entries>\n",
      "\t\t\t[0, 0, 0, 0] = 4.785065404705503\n",
      "\t\t\t[0, 0, 0, 1] = 0.7413803519734079\n",
      "\t\t\t[0, 0, 0, 5] = 0.17579330413348518\n",
      "\t\t\t[0, 0, 0, 6] = 0.17579330413348518\n",
      "\t\t\t[0, 0, 1, 0] = 0.741380351973408\n",
      "\t\t\t... skipping 1240 entries\n",
      "\t\t\tBeta-Beta\n",
      "\t\t\t<(7, 7, 7, 7) matrix with 1245 non-zero entries>\n",
      "\t\t\t[0, 0, 0, 0] = 4.785065404705503\n",
      "\t\t\t[0, 0, 0, 1] = 0.7413803519734079\n",
      "\t\t\t[0, 0, 0, 5] = 0.17579330413348518\n",
      "\t\t\t[0, 0, 0, 6] = 0.17579330413348518\n",
      "\t\t\t[0, 0, 1, 0] = 0.741380351973408\n",
      "\t\t\t... skipping 1240 entries\n",
      "\t\t\tAlpha-Beta\n",
      "\t\t\t<(7, 7, 7, 7) matrix with 1245 non-zero entries>\n",
      "\t\t\t[0, 0, 0, 0] = 4.785065404705503\n",
      "\t\t\t[0, 0, 0, 1] = 0.7413803519734079\n",
      "\t\t\t[0, 0, 0, 5] = 0.17579330413348518\n",
      "\t\t\t[0, 0, 0, 6] = 0.17579330413348518\n",
      "\t\t\t[0, 0, 1, 0] = 0.741380351973408\n",
      "\t\t\t... skipping 1240 entries\n",
      "\t\t(MO) 1-Body Terms:\n",
      "\t\t\tAlpha\n",
      "\t\t\t<(3, 3) matrix with 3 non-zero entries>\n",
      "\t\t\t[0, 0] = -1.2713684922252924\n",
      "\t\t\t[1, 1] = -0.5252015734604244\n",
      "\t\t\t[2, 2] = -0.47231212091606967\n",
      "\t\t\tBeta\n",
      "\t\t\t<(3, 3) matrix with 3 non-zero entries>\n",
      "\t\t\t[0, 0] = -1.2713684922252924\n",
      "\t\t\t[1, 1] = -0.5252015734604244\n",
      "\t\t\t[2, 2] = -0.47231212091606967\n",
      "\t\t(MO) 2-Body Terms:\n",
      "\t\t\tAlpha-Alpha\n",
      "\t\t\t<(3, 3, 3, 3) matrix with 21 non-zero entries>\n",
      "\t\t\t[0, 0, 0, 0] = 0.8801590933750453\n",
      "\t\t\t[0, 0, 1, 1] = 0.5888764776489932\n",
      "\t\t\t[0, 0, 2, 2] = 0.6266270814174857\n",
      "\t\t\t[0, 1, 0, 1] = 0.03893103043276061\n",
      "\t\t\t[0, 1, 1, 0] = 0.03893103043276064\n",
      "\t\t\t... skipping 16 entries\n",
      "\t\t\tBeta-Alpha\n",
      "\t\t\t<(3, 3, 3, 3) matrix with 21 non-zero entries>\n",
      "\t\t\t[0, 0, 0, 0] = 0.8801590933750453\n",
      "\t\t\t[0, 0, 1, 1] = 0.5888764776489932\n",
      "\t\t\t[0, 0, 2, 2] = 0.6266270814174857\n",
      "\t\t\t[0, 1, 0, 1] = 0.03893103043276061\n",
      "\t\t\t[0, 1, 1, 0] = 0.03893103043276064\n",
      "\t\t\t... skipping 16 entries\n",
      "\t\t\tBeta-Beta\n",
      "\t\t\t<(3, 3, 3, 3) matrix with 21 non-zero entries>\n",
      "\t\t\t[0, 0, 0, 0] = 0.8801590933750453\n",
      "\t\t\t[0, 0, 1, 1] = 0.5888764776489932\n",
      "\t\t\t[0, 0, 2, 2] = 0.6266270814174857\n",
      "\t\t\t[0, 1, 0, 1] = 0.03893103043276061\n",
      "\t\t\t[0, 1, 1, 0] = 0.03893103043276064\n",
      "\t\t\t... skipping 16 entries\n",
      "\t\t\tAlpha-Beta\n",
      "\t\t\t<(3, 3, 3, 3) matrix with 21 non-zero entries>\n",
      "\t\t\t[0, 0, 0, 0] = 0.8801590933750453\n",
      "\t\t\t[0, 0, 1, 1] = 0.5888764776489932\n",
      "\t\t\t[0, 0, 2, 2] = 0.6266270814174857\n",
      "\t\t\t[0, 1, 0, 1] = 0.03893103043276061\n",
      "\t\t\t[0, 1, 1, 0] = 0.03893103043276064\n",
      "\t\t\t... skipping 16 entries\n",
      "\t\tEnergy Shifts:\n",
      "\t\t\tActiveSpaceTransformer = (-82.58413593368793+0j)\n",
      "\tElectronicDipoleMoment:\n",
      "\t\tDipoleMomentX\n",
      "\t\t\t(AO) 1-Body Terms:\n",
      "\t\t\t\tAlpha\n",
      "\t\t\t\t<(7, 7) matrix with 8 non-zero entries>\n",
      "\t\t\t\t[0, 2] = 0.05079192958791236\n",
      "\t\t\t\t[1, 2] = 0.6411728443249252\n",
      "\t\t\t\t[2, 0] = 0.05079192958791236\n",
      "\t\t\t\t[2, 1] = 0.6411728443249252\n",
      "\t\t\t\t[2, 5] = 0.30915367280278916\n",
      "\t\t\t\t... skipping 3 entries\n",
      "\t\t\t\tBeta\n",
      "\t\t\t\t<(7, 7) matrix with 8 non-zero entries>\n",
      "\t\t\t\t[0, 2] = 0.05079192958791236\n",
      "\t\t\t\t[1, 2] = 0.6411728443249252\n",
      "\t\t\t\t[2, 0] = 0.05079192958791236\n",
      "\t\t\t\t[2, 1] = 0.6411728443249252\n",
      "\t\t\t\t[2, 5] = 0.30915367280278916\n",
      "\t\t\t\t... skipping 3 entries\n",
      "\t\t\t(MO) 1-Body Terms:\n",
      "\t\t\t\tAlpha\n",
      "\t\t\t\t<(3, 3) matrix with 2 non-zero entries>\n",
      "\t\t\t\t[0, 1] = 0.07483374421728704\n",
      "\t\t\t\t[1, 0] = 0.07483374421728704\n",
      "\t\t\t\tBeta\n",
      "\t\t\t\t<(3, 3) matrix with 2 non-zero entries>\n",
      "\t\t\t\t[0, 1] = 0.07483374421728704\n",
      "\t\t\t\t[1, 0] = 0.07483374421728704\n",
      "\t\t\tEnergy Shifts:\n",
      "\t\t\t\tActiveSpaceTransformer = 0j\n",
      "\t\tDipoleMomentY\n",
      "\t\t\t(AO) 1-Body Terms:\n",
      "\t\t\t\tAlpha\n",
      "\t\t\t\t<(7, 7) matrix with 22 non-zero entries>\n",
      "\t\t\t\t[0, 3] = 0.05079192958791236\n",
      "\t\t\t\t[0, 5] = 0.0032052941540769942\n",
      "\t\t\t\t[0, 6] = -0.0032052941540769942\n",
      "\t\t\t\t[1, 3] = 0.6411728443249252\n",
      "\t\t\t\t[1, 5] = 0.29292283410131914\n",
      "\t\t\t\t... skipping 17 entries\n",
      "\t\t\t\tBeta\n",
      "\t\t\t\t<(7, 7) matrix with 22 non-zero entries>\n",
      "\t\t\t\t[0, 3] = 0.05079192958791236\n",
      "\t\t\t\t[0, 5] = 0.0032052941540769942\n",
      "\t\t\t\t[0, 6] = -0.0032052941540769942\n",
      "\t\t\t\t[1, 3] = 0.6411728443249252\n",
      "\t\t\t\t[1, 5] = 0.29292283410131914\n",
      "\t\t\t\t... skipping 17 entries\n",
      "\t\t\t(MO) 1-Body Terms:\n",
      "\t\t\t\tAlpha\n",
      "\t\t\t\t<(3, 3) matrix with 2 non-zero entries>\n",
      "\t\t\t\t[1, 2] = 1.0657185402535558\n",
      "\t\t\t\t[2, 1] = 1.0657185402535556\n",
      "\t\t\t\tBeta\n",
      "\t\t\t\t<(3, 3) matrix with 2 non-zero entries>\n",
      "\t\t\t\t[1, 2] = 1.0657185402535558\n",
      "\t\t\t\t[2, 1] = 1.0657185402535556\n",
      "\t\t\tEnergy Shifts:\n",
      "\t\t\t\tActiveSpaceTransformer = (-8.881784197001252e-16+0j)\n",
      "\t\tDipoleMomentZ\n",
      "\t\t\t(AO) 1-Body Terms:\n",
      "\t\t\t\tAlpha\n",
      "\t\t\t\t<(7, 7) matrix with 31 non-zero entries>\n",
      "\t\t\t\t[0, 0] = 0.2173185043249821\n",
      "\t\t\t\t[0, 1] = 0.05144014545037292\n",
      "\t\t\t\t[0, 4] = 0.05079192958791236\n",
      "\t\t\t\t[0, 5] = 0.009559648381014477\n",
      "\t\t\t\t[0, 6] = 0.009559648381014477\n",
      "\t\t\t\t... skipping 26 entries\n",
      "\t\t\t\tBeta\n",
      "\t\t\t\t<(7, 7) matrix with 31 non-zero entries>\n",
      "\t\t\t\t[0, 0] = 0.2173185043249821\n",
      "\t\t\t\t[0, 1] = 0.05144014545037292\n",
      "\t\t\t\t[0, 4] = 0.05079192958791236\n",
      "\t\t\t\t[0, 5] = 0.009559648381014477\n",
      "\t\t\t\t[0, 6] = 0.009559648381014477\n",
      "\t\t\t\t... skipping 26 entries\n",
      "\t\t\t(MO) 1-Body Terms:\n",
      "\t\t\t\tAlpha\n",
      "\t\t\t\t<(3, 3) matrix with 3 non-zero entries>\n",
      "\t\t\t\t[0, 0] = 0.21731850432498218\n",
      "\t\t\t\t[1, 1] = -0.7371203251701058\n",
      "\t\t\t\t[2, 2] = -0.4358870803890892\n",
      "\t\t\t\tBeta\n",
      "\t\t\t\t<(3, 3) matrix with 3 non-zero entries>\n",
      "\t\t\t\t[0, 0] = 0.21731850432498218\n",
      "\t\t\t\t[1, 1] = -0.7371203251701058\n",
      "\t\t\t\t[2, 2] = -0.4358870803890892\n",
      "\t\t\tEnergy Shifts:\n",
      "\t\t\t\tActiveSpaceTransformer = (0.2505915647861987+0j)\n",
      "\tAngularMomentum:\n",
      "\t\t6 SOs\n",
      "\tMagnetization:\n",
      "\t\t6 SOs\n",
      "Molecule:\n",
      "\tMultiplicity: 1\n",
      "\tCharge: 0\n",
      "\tGeometry:\n",
      "\t\tO\t[0.0, 0.0, 0.115]\n",
      "\t\tH\t[0.0, 0.754, -0.459]\n",
      "\t\tH\t[0.0, -0.754, -0.459]\n",
      "\tMasses:\n",
      "\t\tO\t16\n",
      "\t\tH\t1\n",
      "\t\tH\t1\n"
     ]
    }
   ],
   "source": [
    "print(problem_reduced.grouped_property_transformed)"
   ]
  },
  {
   "cell_type": "markdown",
   "id": "ff876784",
   "metadata": {
    "slideshow": {
     "slide_type": "slide"
    }
   },
   "source": [
    "## Mapping the Problem to the Qubit Space"
   ]
  },
  {
   "cell_type": "markdown",
   "id": "945a9256",
   "metadata": {
    "slideshow": {
     "slide_type": "fragment"
    }
   },
   "source": [
    "### Molecular Orbitals\n",
    "\n",
    "<div style=\"float: left; width: 50%;\">\n",
    "    We sneakily introduced the concept of <b>molecular orbitals</b> which are obtained from the <i>atomic orbitals</i> via a unitary transformation. In other words: each molecular orbital is a linear combination of all atomic orbitals.\n",
    "    <br/>\n",
    "    <br/>\n",
    "    The choice of <b>basis set</b> (<span>sto3g</span> in our example thus far) directly affects the number of orbitals.\n",
    "    As a rule of thumb, choosing a larger basis will include more diffuse atomic orbitals.\n",
    "</div>\n",
    "\n",
    "<div style=\"float: right; width: 50%; padding-right=20px;\">\n",
    "    <img src=\"images/water_mo_diagram.jpg\" width=\"600\"/>\n",
    "    <br>\n",
    "</div>\n"
   ]
  },
  {
   "cell_type": "markdown",
   "id": "ba0f6d1d",
   "metadata": {
    "slideshow": {
     "slide_type": "notes"
    }
   },
   "source": [
    "In order to solve our problem with a Quantum algorithm we must map our second-quantized Hamiltonian into a qubit operator. This is done with the `QubitConverter` in combination with a `QubitMapper` of your choice."
   ]
  },
  {
   "cell_type": "markdown",
   "id": "37760f29",
   "metadata": {
    "slideshow": {
     "slide_type": "notes"
    }
   },
   "source": [
    "Each MO can hold up to two electrons, one spin-up (_alpha_) and one spin-down (_beta_) electron.\n",
    "\n",
    "In Qiskit we will need to map these two cases onto the quantum computer separately. Thus, we are working with **spin orbitals** which are identical to the MOs but restrict the spin in either the up or down configuration, depending on the nature of the orbital."
   ]
  },
  {
   "cell_type": "markdown",
   "id": "a95e0a68",
   "metadata": {
    "slideshow": {
     "slide_type": "slide"
    }
   },
   "source": [
    "The most straight forward mapping is the *Jordan-Wigner* one which stores the *occupation* information of one spin orbital in one qubit:\n",
    "\n",
    "<img src=\"images/jw_mapping.png\" width=\"1400\"/>"
   ]
  },
  {
   "cell_type": "code",
   "execution_count": 13,
   "id": "051434ef",
   "metadata": {
    "slideshow": {
     "slide_type": "slide"
    }
   },
   "outputs": [],
   "source": [
    "from qiskit_nature.converters.second_quantization import QubitConverter\n",
    "from qiskit_nature.mappers.second_quantization import JordanWignerMapper\n",
    "\n",
    "jw_mapper = JordanWignerMapper()\n",
    "jw_converter = QubitConverter(jw_mapper)"
   ]
  },
  {
   "cell_type": "code",
   "execution_count": 14,
   "id": "26197a8f",
   "metadata": {
    "scrolled": true,
    "slideshow": {
     "slide_type": "-"
    }
   },
   "outputs": [
    {
     "name": "stdout",
     "output_type": "stream",
     "text": [
      "0.009732757608190156 * IYYIYY\n",
      "+ 0.009732757608190156 * IXXIYY\n",
      "+ 0.009732757608190156 * IYYIXX\n",
      "+ 0.009732757608190156 * IXXIXX\n",
      "+ 0.006088636765052984 * YZYYZY\n",
      "+ 0.006088636765052984 * XZXYZY\n",
      "+ 0.006088636765052984 * YZYXZX\n",
      "+ 0.006088636765052984 * XZXXZX\n",
      "+ 0.028975793459948544 * YYIYYI\n",
      "+ 0.028975793459948544 * XXIYYI\n",
      "+ 0.028975793459948544 * YYIXXI\n",
      "+ 0.028975793459948544 * XXIXXI\n",
      "- 0.05135743132371634 * IIIIII\n",
      "- 0.48094051547759054 * ZIIIII\n",
      "- 0.425857234108475 * IZIIII\n",
      "+ 0.11275928505376268 * ZZIIII\n",
      "- 0.1762859123911116 * IIZIII\n",
      "+ 0.15056813358931842 * ZIZIII\n",
      "+ 0.13748636180405815 * IZZIII\n",
      "- 0.48094051547759065 * IIIZII\n",
      "+ 0.15537730842446174 * ZIIZII\n",
      "+ 0.1417350785137112 * IZIZII\n",
      "+ 0.15665677035437142 * IIZZII\n",
      "- 0.4258572341084751 * IIIIZI\n",
      "+ 0.1417350785137112 * ZIIIZI\n",
      "+ 0.14925817605490688 * IZIIZI\n",
      "+ 0.1472191194122483 * IIZIZI\n",
      "+ 0.11275928505376268 * IIIZZI\n",
      "- 0.17628591239111135 * IIIIIZ\n",
      "+ 0.15665677035437142 * ZIIIIZ\n",
      "+ 0.1472191194122483 * IZIIIZ\n",
      "+ 0.22003977334376132 * IIZIIZ\n",
      "+ 0.15056813358931842 * IIIZIZ\n",
      "+ 0.13748636180405815 * IIIIZZ\n"
     ]
    }
   ],
   "source": [
    "qubit_op_jw = jw_converter.convert(hamiltonian_reduced)\n",
    "print(qubit_op_jw)"
   ]
  },
  {
   "cell_type": "markdown",
   "id": "dd01e34a",
   "metadata": {
    "slideshow": {
     "slide_type": "slide"
    }
   },
   "source": [
    "In this step we can reduce the size of our problem further by leveraging symmetries in the Hilbert space of our system. One mapping which supports a straight-forward removal of 2 qubits by exploiting the particle-conserving properties of electronic structure problems, is the *parity* mapping:"
   ]
  },
  {
   "cell_type": "code",
   "execution_count": 15,
   "id": "bb1350ed",
   "metadata": {
    "slideshow": {
     "slide_type": "-"
    }
   },
   "outputs": [],
   "source": [
    "from qiskit_nature.mappers.second_quantization import ParityMapper\n",
    "\n",
    "parity_mapper = ParityMapper()\n",
    "parity_converter = QubitConverter(parity_mapper, two_qubit_reduction=True)"
   ]
  },
  {
   "cell_type": "code",
   "execution_count": 16,
   "id": "e229adc9",
   "metadata": {
    "scrolled": true,
    "slideshow": {
     "slide_type": "-"
    }
   },
   "outputs": [
    {
     "name": "stdout",
     "output_type": "stream",
     "text": [
      "-0.009732757608190153 * ZXZX\n",
      "- 0.009732757608190153 * IXZX\n",
      "+ 0.009732757608190153 * ZXIX\n",
      "+ 0.009732757608190153 * IXIX\n",
      "+ 0.0060886367650529825 * XXXX\n",
      "- 0.0060886367650529825 * YYXX\n",
      "- 0.0060886367650529825 * XXYY\n",
      "+ 0.0060886367650529825 * YYYY\n",
      "- 0.028975793459948534 * XZXZ\n",
      "+ 0.028975793459948534 * XIXZ\n",
      "- 0.028975793459948534 * XZXI\n",
      "+ 0.028975793459948534 * XIXI\n",
      "- 0.05135743132371632 * IIII\n",
      "- 0.6184268772816486 * ZIII\n",
      "- 0.5764253676977933 * ZZII\n",
      "+ 0.2890451974448742 * IZII\n",
      "+ 0.6184268772816487 * IIZI\n",
      "- 0.15537730842446168 * ZIZI\n",
      "- 0.14173507851371114 * ZZZI\n",
      "+ 0.15665677035437137 * IZZI\n",
      "- 0.5764253676977933 * IIZZ\n",
      "+ 0.14173507851371114 * ZIZZ\n",
      "+ 0.14925817605490682 * ZZZZ\n",
      "- 0.14721911941224824 * IZZZ\n",
      "- 0.28904519744487395 * IIIZ\n",
      "+ 0.15665677035437137 * ZIIZ\n",
      "+ 0.14721911941224824 * ZZIZ\n",
      "- 0.22003977334376126 * IZIZ\n"
     ]
    }
   ],
   "source": [
    "qubit_op_parity = parity_converter.convert(hamiltonian_reduced, num_particles=problem_reduced.num_particles)\n",
    "print(qubit_op_parity)"
   ]
  },
  {
   "cell_type": "markdown",
   "id": "730c3df3",
   "metadata": {
    "slideshow": {
     "slide_type": "slide"
    }
   },
   "source": [
    "## Finding the Ground-State Solution"
   ]
  },
  {
   "cell_type": "markdown",
   "id": "8c141545",
   "metadata": {
    "slideshow": {
     "slide_type": "fragment"
    }
   },
   "source": [
    "<div style=\"float: left; width: 50%;\">\n",
    "Now that we have converted our problem to a Qubit operator, we need to find it's eigenvalue which corresponds to the ground state of our system.\n",
    "</div>\n",
    "\n",
    "<div style=\"float: right; width: 50%; padding-right=20px;\">\n",
    "    <img src=\"images/H2_gs.png\" width=\"400\"/>\n",
    "    <br>\n",
    "</div>"
   ]
  },
  {
   "cell_type": "markdown",
   "id": "639c94a3",
   "metadata": {
    "slideshow": {
     "slide_type": "slide"
    }
   },
   "source": [
    "**The Variational Quantum Eigensolver (VQE)**\n",
    "\n",
    "<img src=\"images/vqe.png\" width=\"1500\"/>"
   ]
  },
  {
   "cell_type": "markdown",
   "id": "b099a2f4",
   "metadata": {
    "slideshow": {
     "slide_type": "slide"
    }
   },
   "source": [
    "The simplest way of constructing a `VQE` with a given backend is to use a _factory_ class as provided by Qiskit Nature:"
   ]
  },
  {
   "cell_type": "code",
   "execution_count": 17,
   "id": "88fba522",
   "metadata": {
    "slideshow": {
     "slide_type": "-"
    }
   },
   "outputs": [],
   "source": [
    "from qiskit.algorithms.optimizers import SLSQP\n",
    "from qiskit.providers.aer import StatevectorSimulator, QasmSimulator\n",
    "from qiskit_nature.algorithms.ground_state_solvers.minimum_eigensolver_factories import VQEUCCFactory\n",
    "\n",
    "vqe_factory = VQEUCCFactory(\n",
    "    quantum_instance=StatevectorSimulator(),\n",
    "    #quantum_instance=QasmSimulator(),\n",
    "    optimizer=SLSQP(),\n",
    ")"
   ]
  },
  {
   "cell_type": "markdown",
   "id": "23c98ec2",
   "metadata": {
    "slideshow": {
     "slide_type": "notes"
    }
   },
   "source": [
    "Besides the simpler interface, the factory also allows us to _postpone_ the construction of our wavefunction-Ansatz until it is absolutely necessary. This is important, because particle-conserving Ansätze (like the `UCC` Ansatz used here) require the number of particles of our system as an input.\n",
    "This may not be available early on in the stack which is why this factory is so powerful."
   ]
  },
  {
   "cell_type": "markdown",
   "id": "de50af8a",
   "metadata": {
    "slideshow": {
     "slide_type": "fragment"
    }
   },
   "source": [
    "This factory can then be used to construct a `GroundStateEigensolver` with which we can finally solve our problem:"
   ]
  },
  {
   "cell_type": "code",
   "execution_count": 18,
   "id": "31ca720b",
   "metadata": {
    "slideshow": {
     "slide_type": "-"
    }
   },
   "outputs": [],
   "source": [
    "from qiskit_nature.algorithms.ground_state_solvers import GroundStateEigensolver\n",
    "\n",
    "solver = GroundStateEigensolver(parity_converter, vqe_factory)"
   ]
  },
  {
   "cell_type": "code",
   "execution_count": 19,
   "id": "53609123",
   "metadata": {
    "slideshow": {
     "slide_type": "-"
    }
   },
   "outputs": [],
   "source": [
    "result = solver.solve(problem_reduced)"
   ]
  },
  {
   "cell_type": "code",
   "execution_count": 20,
   "id": "ab7b9bdb",
   "metadata": {
    "slideshow": {
     "slide_type": "slide"
    }
   },
   "outputs": [
    {
     "name": "stdout",
     "output_type": "stream",
     "text": [
      "=== GROUND STATE ENERGY ===\n",
      " \n",
      "* Electronic ground state energy (Hartree): -84.248285546105\n",
      "  - computed part:      -1.664149612417\n",
      "  - ActiveSpaceTransformer extracted energy part: -82.584135933688\n",
      "~ Nuclear repulsion energy (Hartree): 9.285714221678\n",
      "> Total ground state energy (Hartree): -74.962571324427\n",
      " \n",
      "=== MEASURED OBSERVABLES ===\n",
      " \n",
      "  0:  # Particles: 2.000 S: 0.000 S^2: 0.000 M: -0.000\n",
      " \n",
      "=== DIPOLE MOMENTS ===\n",
      " \n",
      "~ Nuclear dipole moment (a.u.): [0.0  0.0  0.00377945]\n",
      " \n",
      "  0: \n",
      "  * Electronic dipole moment (a.u.): [0.0  0.0  0.68311968]\n",
      "    - computed part:      [0.0  0.0  0.43252811]\n",
      "    - ActiveSpaceTransformer extracted energy part: [0.0  0.0  0.25059156]\n",
      "  > Dipole moment (a.u.): [0.0  0.0  -0.67934023]  Total: 0.67934023\n",
      "                 (debye): [0.0  0.00000001  -1.72671046]  Total: 1.72671046\n",
      " \n"
     ]
    }
   ],
   "source": [
    "print(result)"
   ]
  },
  {
   "cell_type": "markdown",
   "id": "caff51ec",
   "metadata": {
    "slideshow": {
     "slide_type": "slide"
    }
   },
   "source": [
    "### VQE Runtime"
   ]
  },
  {
   "cell_type": "markdown",
   "id": "eb26c4c8",
   "metadata": {
    "slideshow": {
     "slide_type": "notes"
    }
   },
   "source": [
    "The newly introduced **Runtime** greatly reduces the waiting time associated with running quantum algorithms on real hardware devices. It does so by (among other things) executing the classical parts of a hybrid quantum-classical algorithm on an IBM server closely located to the actual device, thereby minimizing communication overhead."
   ]
  },
  {
   "cell_type": "markdown",
   "id": "3c2eb9a8",
   "metadata": {
    "slideshow": {
     "slide_type": "-"
    }
   },
   "source": [
    "<div style=\"float: left; width: 50%;\">\n",
    "    <b>Before:</b>\n",
    "    <img src=\"images/runtime_1.png\" width=\"800\"/>\n",
    "    <b>Now:</b>\n",
    "    <img src=\"images/runtime_2.png\" width=\"800\"/>\n",
    "</div>\n",
    "<div style=\"float: right; width: 50%; padding-right=20px;\">\n",
    "    <br/>\n",
    "    <br/>\n",
    "    <br/>\n",
    "    <br/>\n",
    "    <img src=\"images/runtime_3.png\" width=\"800\"/>\n",
    "</div>"
   ]
  },
  {
   "cell_type": "code",
   "execution_count": 21,
   "id": "70143fd7",
   "metadata": {
    "slideshow": {
     "slide_type": "notes"
    }
   },
   "outputs": [],
   "source": [
    "from urllib3.connection import SystemTimeWarning\n",
    "warnings.filterwarnings(action=\"ignore\", category=SystemTimeWarning)"
   ]
  },
  {
   "cell_type": "code",
   "execution_count": 22,
   "id": "68bc1f40",
   "metadata": {
    "slideshow": {
     "slide_type": "notes"
    }
   },
   "outputs": [],
   "source": [
    "import numpy as np\n",
    "\n",
    "np.random.seed(42)"
   ]
  },
  {
   "cell_type": "markdown",
   "id": "3f807fcc",
   "metadata": {
    "slideshow": {
     "slide_type": "slide"
    }
   },
   "source": [
    "First, we construct a new Ansatz manually:"
   ]
  },
  {
   "cell_type": "code",
   "execution_count": 23,
   "id": "e5cb6226",
   "metadata": {
    "slideshow": {
     "slide_type": "-"
    }
   },
   "outputs": [
    {
     "data": {
      "image/png": "[encoded data removed]",
      "text/plain": [
       "<Figure size 628.397x264.88 with 1 Axes>"
      ]
     },
     "execution_count": 23,
     "metadata": {},
     "output_type": "execute_result"
    }
   ],
   "source": [
    "from qiskit.circuit.library import EfficientSU2\n",
    "\n",
    "ansatz = EfficientSU2(num_qubits=qubit_op_parity.num_qubits, reps=1, entanglement='linear', insert_barriers=True)\n",
    "ansatz.decompose().draw('mpl', style='iqx')"
   ]
  },
  {
   "cell_type": "markdown",
   "id": "92c80573",
   "metadata": {
    "slideshow": {
     "slide_type": "notes"
    }
   },
   "source": [
    "The reason for constructing an Ansatz manually is two-fold:\n",
    "1. To show you how this is done, too.\n",
    "2. Writing a custom Factory for constructing a `VQEProgram` causes unnecessary overhead for this tutorial."
   ]
  },
  {
   "cell_type": "markdown",
   "id": "346c5a52",
   "metadata": {
    "slideshow": {
     "slide_type": "slide"
    }
   },
   "source": [
    "Now we can load our IBMQ account, the provider and select a backend which has runtime-support:"
   ]
  },
  {
   "cell_type": "code",
   "execution_count": 24,
   "id": "eb9da741",
   "metadata": {
    "scrolled": true,
    "slideshow": {
     "slide_type": "-"
    }
   },
   "outputs": [
    {
     "name": "stdout",
     "output_type": "stream",
     "text": [
      "Provider supports runtime:  True\n"
     ]
    }
   ],
   "source": [
    "from qiskit.providers.ibmq import IBMQ, IBMQAccountError\n",
    "\n",
    "try:\n",
    "    IBMQ.load_account()\n",
    "    provider = IBMQ.get_provider(group=\"open\")\n",
    "except IBMQAccountError:\n",
    "    print(\"No IBMQ account credentials available\")\n",
    "    provider = None\n",
    "else:\n",
    "    print(\"Provider supports runtime: \", provider.has_service(\"runtime\"))\n",
    "\n",
    "    backend = provider.get_backend(\"ibmq_qasm_simulator\")"
   ]
  },
  {
   "cell_type": "markdown",
   "id": "60b122be",
   "metadata": {
    "slideshow": {
     "slide_type": "slide"
    }
   },
   "source": [
    "And finally we can construct a new VQE solver using `VQEClient`:"
   ]
  },
  {
   "cell_type": "code",
   "execution_count": 25,
   "id": "6f57f58e",
   "metadata": {
    "slideshow": {
     "slide_type": "-"
    }
   },
   "outputs": [],
   "source": [
    "from qiskit_nature.runtime import VQEClient\n",
    "\n",
    "optimizer = {\n",
    "    \"name\": \"SPSA\",\n",
    "    \"maxiter\": 50,\n",
    "}\n",
    "initial_point = np.random.random(ansatz.num_parameters)\n",
    "\n",
    "if provider is not None:\n",
    "    runtime_vqe = VQEClient(\n",
    "        ansatz=ansatz,\n",
    "        optimizer=optimizer,\n",
    "        initial_point=initial_point,\n",
    "        provider=provider,\n",
    "        backend=backend,\n",
    "        shots=1024,\n",
    "        measurement_error_mitigation=True,\n",
    "    )"
   ]
  },
  {
   "cell_type": "code",
   "execution_count": 26,
   "id": "8f962ff3",
   "metadata": {
    "slideshow": {
     "slide_type": "slide"
    }
   },
   "outputs": [],
   "source": [
    "if provider is not None:\n",
    "    runtime_vqe_solver = GroundStateEigensolver(parity_converter, runtime_vqe)"
   ]
  },
  {
   "cell_type": "code",
   "execution_count": 27,
   "id": "98b5498d",
   "metadata": {
    "slideshow": {
     "slide_type": "-"
    }
   },
   "outputs": [],
   "source": [
    "if provider is not None:\n",
    "    runtime_result = runtime_vqe_solver.solve(problem_reduced)"
   ]
  },
  {
   "cell_type": "code",
   "execution_count": 28,
   "id": "87e510f5",
   "metadata": {
    "scrolled": true,
    "slideshow": {
     "slide_type": "fragment"
    }
   },
   "outputs": [
    {
     "name": "stdout",
     "output_type": "stream",
     "text": [
      "=== GROUND STATE ENERGY ===\n",
      " \n",
      "* Electronic ground state energy (Hartree): -84.041164244605\n",
      "  - computed part:      -1.457028310917\n",
      "  - ActiveSpaceTransformer extracted energy part: -82.584135933688\n",
      "~ Nuclear repulsion energy (Hartree): 9.285714221678\n",
      "> Total ground state energy (Hartree): -74.755450022928\n",
      " \n",
      "=== MEASURED OBSERVABLES ===\n",
      " \n",
      "  0:  # Particles: 2.320 S: 0.491 S^2: 0.732 M: -0.023\n",
      " \n",
      "=== DIPOLE MOMENTS ===\n",
      " \n",
      "~ Nuclear dipole moment (a.u.): [0.0  0.0  0.00377945]\n",
      " \n",
      "  0: \n",
      "  * Electronic dipole moment (a.u.): [0.04794037  0.51204445  -0.86692576]\n",
      "    - computed part:      [0.04794037  0.51204445  -1.11751732]\n",
      "    - ActiveSpaceTransformer extracted energy part: [0.0  0.0  0.25059156]\n",
      "  > Dipole moment (a.u.): [-0.04794037  -0.51204445  0.87070521]  Total: 1.01124446\n",
      "                 (debye): [-0.12185225  -1.30148706  2.21311168]  Total: 2.5703268\n",
      " \n"
     ]
    }
   ],
   "source": [
    "if provider is not None:\n",
    "    print(runtime_result)"
   ]
  },
  {
   "cell_type": "markdown",
   "id": "53895471",
   "metadata": {
    "slideshow": {
     "slide_type": "slide"
    }
   },
   "source": [
    "## Summary\n",
    "\n",
    "<img src=\"images/summary.png\" width=\"1400\"/>"
   ]
  },
  {
   "cell_type": "markdown",
   "id": "7851a72b",
   "metadata": {
    "slideshow": {
     "slide_type": "slide"
    }
   },
   "source": [
    "## Additional Resources\n",
    "\n",
    "* Documentation: https://qiskit.org/documentation/nature/\n",
    "* Tutorials: https://qiskit.org/documentation/nature/tutorials/index.html\n",
    "* Source code: https://github.com/Qiskit/qiskit-nature"
   ]
  },
  {
   "cell_type": "code",
   "execution_count": 29,
   "id": "ae335de0",
   "metadata": {
    "scrolled": true,
    "slideshow": {
     "slide_type": "notes"
    }
   },
   "outputs": [
    {
     "data": {
      "text/html": [
       "<h3>Version Information</h3><table><tr><th>Qiskit Software</th><th>Version</th></tr><tr><td><code>qiskit-terra</code></td><td>0.20.2</td></tr><tr><td><code>qiskit-aer</code></td><td>0.10.4</td></tr><tr><td><code>qiskit-ignis</code></td><td>0.7.1</td></tr><tr><td><code>qiskit-ibmq-provider</code></td><td>0.19.1</td></tr><tr><td><code>qiskit</code></td><td>0.36.2</td></tr><tr><td><code>qiskit-nature</code></td><td>0.3.2</td></tr><tr><td><code>qiskit-finance</code></td><td>0.3.1</td></tr><tr><td><code>qiskit-optimization</code></td><td>0.3.2</td></tr><tr><td><code>qiskit-machine-learning</code></td><td>0.4.0</td></tr><tr><th>System information</th></tr><tr><td>Python version</td><td>3.8.9</td></tr><tr><td>Python compiler</td><td>Clang 13.1.6 (clang-1316.0.21.2.5)</td></tr><tr><td>Python build</td><td>default, Apr 13 2022 08:48:07</td></tr><tr><td>OS</td><td>Darwin</td></tr><tr><td>CPUs</td><td>4</td></tr><tr><td>Memory (Gb)</td><td>32.0</td></tr><tr><td colspan='2'>Mon Jun 06 17:49:32 2022 AEST</td></tr></table>"
      ],
      "text/plain": [
       "<IPython.core.display.HTML object>"
      ]
     },
     "metadata": {},
     "output_type": "display_data"
    },
    {
     "data": {
      "text/html": [
       "<div style='width: 100%; background-color:#d5d9e0;padding-left: 10px; padding-bottom: 10px; padding-right: 10px; padding-top: 5px'><h3>This code is a part of Qiskit</h3><p>&copy; Copyright IBM 2017, 2022.</p><p>This code is licensed under the Apache License, Version 2.0. You may<br>obtain a copy of this license in the LICENSE.txt file in the root directory<br> of this source tree or at http://www.apache.org/licenses/LICENSE-2.0.<p>Any modifications or derivative works of this code must retain this<br>copyright notice, and modified files need to carry a notice indicating<br>that they have been altered from the originals.</p></div>"
      ],
      "text/plain": [
       "<IPython.core.display.HTML object>"
      ]
     },
     "metadata": {},
     "output_type": "display_data"
    }
   ],
   "source": [
    "import qiskit.tools.jupyter\n",
    "%qiskit_version_table\n",
    "%qiskit_copyright"
   ]
  }
 ],
 "metadata": {
  "celltoolbar": "Slideshow",
  "kernelspec": {
   "display_name": "Python 3 (ipykernel)",
   "language": "python",
   "name": "python3"
  },
  "language_info": {
   "codemirror_mode": {
    "name": "ipython",
    "version": 3
   },
   "file_extension": ".py",
   "mimetype": "text/x-python",
   "name": "python",
   "nbconvert_exporter": "python",
   "pygments_lexer": "ipython3",
   "version": "3.8.9"
  }
 },
 "nbformat": 4,
 "nbformat_minor": 5
}
